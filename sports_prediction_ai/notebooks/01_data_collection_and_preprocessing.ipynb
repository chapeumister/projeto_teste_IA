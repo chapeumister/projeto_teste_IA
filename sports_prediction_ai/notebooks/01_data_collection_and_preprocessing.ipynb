{
 "cells": [
  {
   "cell_type": "markdown",
   "metadata": {},
   "source": [
    "# Notebook 1: Data Collection and Preprocessing\n",
    "\n",
    "This notebook demonstrates how to use the `data_collection.py` and `data_preprocessing.py` modules to fetch and prepare sports data.\n",
    "\n",
    "**Note:** To fetch real data from `football-data.org`, you need to set the `FOOTBALL_DATA_API_KEY` environment variable with your API token."
   ]
  },
  {
   "cell_type": "markdown",
   "metadata": {},
   "source": [
    "## 1. Setup and Imports"
   ]
  },
  {
   "cell_type": "code",
   "execution_count": null,
   "metadata": {},
   "outputs": [],
   "source": [
    "import os\n",
    "import sys\n",
    "from datetime import datetime, timedelta\n",
    "import pandas as pd\n",
    "\n",
    "# Add src directory to Python path to import custom modules\n",
    "project_root = os.path.abspath(os.path.join(os.getcwd(), '..')) # Assuming notebook is in 'notebooks' directory\n",
    "src_path = os.path.join(project_root, 'src')\n",
    "if src_path not in sys.path:\n",
    "    sys.path.append(src_path)\n",
    "\n",
    "try:\n",
    "    from data_collection import get_matches_for_date\n",
    "    from data_preprocessing import preprocess_match_data\n",
    "except ImportError as e:\n",
    "    print(f\"Error importing modules: {e}\")\n",
    "    print(\"Make sure 'src' is in sys.path and __init__.py files are present.\")\n",
    "    print(f\"Current sys.path: {sys.path}\")\n",
    "\n",
    "import numpy as np # For np.select if used in example"
   ]
  },
  {
   "cell_type": "markdown",
   "metadata": {},
   "source": [
    "## 2. Data Collection from football-data.org"
   ]
  },
  {
   "cell_type": "code",
   "execution_count": null,
   "metadata": {},
   "outputs": [],
   "source": [
    "fd_api_key = os.getenv(\"FOOTBALL_DATA_API_KEY\", \"YOUR_API_TOKEN\")\n",
    "\n",
    "if fd_api_key == \"YOUR_API_TOKEN\":\n",
    "    print(\"Warning: FOOTBALL_DATA_API_KEY is not set. Using placeholder.\")\n",
    "    print(\"Data fetching from football-data.org will likely return an empty list or fail.\")\n",
    "    print(\"Please set the environment variable for actual data.\")\n",
    "\n",
    "yesterday_fd = (datetime.now() - timedelta(days=1)).strftime(\"%Y-%m-%d\")\n",
    "print(f\"Fetching matches from football-data.org for: {yesterday_fd}\")\n",
    "\n",
    "raw_matches_data_fd = get_matches_for_date(yesterday_fd, api_key=fd_api_key)\n",
    "\n",
    "if raw_matches_data_fd:\n",
    "    print(f\"Successfully fetched {len(raw_matches_data_fd)} matches from football-data.org.\")\n",
    "    # Display first match as an example\n",
    "    # print(\"Example match data:\", raw_matches_data_fd[0]) \n",
    "else:\n",
    "    print(\"No matches fetched from football-data.org. This could be due to no games on that day, API limits, or an invalid/missing API key.\")"
   ]
  },
  {
   "cell_type": "markdown",
   "metadata": {},
   "source": [
    "## 3. Data Collection from API-SPORTS (api-football.com)\n",
    "\n",
    "This section demonstrates fetching data using `get_matches_from_apisports`.\n",
    "**Note:** You need to set the `APISPORTS_API_KEY` environment variable."
   ]
  },
  {
   "cell_type": "code",
   "execution_count": null,
   "metadata": {},
   "outputs": [],
   "source": [
    "# Need to re-import to get the new function if it was added after initial import\n",
    "try:\n",
    "    from data_collection import get_matches_from_apisports\n",
    "    from data_preprocessing import engineer_form_features # For later section\n",
    "except ImportError as e:\n",
    "    print(f\"Error re-importing modules: {e}\")\n",
    "\n",
    "apisports_api_key = os.getenv(\"APISPORTS_API_KEY\")\n",
    "\n",
    "if not apisports_api_key:\n",
    "    print(\"Warning: APISPORTS_API_KEY is not set.\")\n",
    "    print(\"Data fetching from API-SPORTS will be skipped or will use a placeholder if the function handles it.\")\n",
    "    raw_matches_data_as = []\n",
    "else:\n",
    "    today_as = datetime.now().strftime(\"%Y-%m-%d\")\n",
    "    print(f\"Fetching matches from API-SPORTS for: {today_as}\")\n",
    "    raw_matches_data_as = get_matches_from_apisports(date_str=today_as, api_key=apisports_api_key)\n",
    "\n",
    "    if raw_matches_data_as:\n",
    "        print(f\"Successfully fetched {len(raw_matches_data_as)} matches from API-SPORTS.\")\n",
    "        # print(\"Example match data from API-SPORTS:\", raw_matches_data_as[0])\n",
    "    else:\n",
    "        print(\"No matches fetched from API-SPORTS. This could be due to no games, API limits, or an invalid/missing API key.\")"
   ]
  },
  {
   "cell_type": "markdown",
   "metadata": {},
   "source": [
    "## 4. Data Preprocessing\n",
    "\n",
    "Convert the raw list of matches (e.g., from football-data.org) into a Pandas DataFrame and perform initial cleaning/feature extraction."
   ]
  },
  {
   "cell_type": "code",
   "execution_count": null,
   "metadata": {},
   "outputs": [],
   "source": [
    "# We'll use the data from football-data.org for this example\n",
    "raw_matches_data_to_process = raw_matches_data_fd \n",
    "\n",
    "if isinstance(raw_matches_data_to_process, list) and raw_matches_data_to_process:\n",
    "    matches_df = preprocess_match_data(raw_matches_data_to_process)\n",
    "    if not matches_df.empty:\n",
    "        print(\"Preprocessed DataFrame info (from football-data.org data):\")\n",
    "        matches_df.info()\n",
    "        print(\"\\nDataFrame head:\")\n",
    "        # Ensure necessary columns for display are present\n",
    "        display_cols = ['home_team_name', 'away_team_name', 'home_team_score', 'away_team_score', 'utcDate', 'status', 'home_team_id', 'away_team_id']\n",
    "        actual_display_cols = [col for col in display_cols if col in matches_df.columns]\n",
    "        print(matches_df[actual_display_cols].head())\n",
    "        \n",
    "        # Ensure 'home_team_id', 'away_team_id', and 'utcDate' are created by preprocess_match_data\n",
    "        # These are crucial for form feature engineering later.\n",
    "        if 'home_team_id' not in matches_df.columns:\n",
    "            matches_df['home_team_id'] = matches_df['homeTeam'].apply(lambda x: x.get('id') if isinstance(x, dict) else None)\n",
    "        if 'away_team_id' not in matches_df.columns:\n",
    "            matches_df['away_team_id'] = matches_df['awayTeam'].apply(lambda x: x.get('id') if isinstance(x, dict) else None)\n",
    "        if 'utcDate' in matches_df.columns:\n",
    "             matches_df['utcDate'] = pd.to_datetime(matches_df['utcDate'])\n",
    "            \n",
    "    else:\n",
    "        print(\"Preprocessing resulted in an empty DataFrame.\")\n",
    "        matches_df = pd.DataFrame() # Ensure matches_df is an empty DF for subsequent cells\n",
    "elif not raw_matches_data_to_process:\n",
    "    print(\"Skipping preprocessing as no raw match data was fetched (using football-data.org sample).\")\n",
    "    matches_df = pd.DataFrame() \n",
    "else:\n",
    "    print(f\"Skipping preprocessing as raw_matches_data_to_process is not a list or is None (type: {type(raw_matches_data_to_process)}).\")\n",
    "    matches_df = pd.DataFrame()"
   ]
  },
  {
   "cell_type": "markdown",
   "metadata": {},
   "source": [
    "## 5. Feature Engineering: Team Form\n",
    "\n",
    "This section demonstrates using `engineer_form_features` to add team form statistics (W-D-L for last N games) to your match data.\n",
    "This requires a DataFrame of \"current/upcoming\" matches (like `matches_df` above) and a DataFrame of \"historical\" matches."
   ]
  },
  {
   "cell_type": "code",
   "execution_count": null,
   "metadata": {},
   "outputs": [],
   "source": [
    "# Attempt to load historical data from the sample CSV\n",
    "historical_df = pd.DataFrame()\n",
    "historical_csv_path = os.path.join(project_root, 'data', 'historical_matches_sample.csv')\n",
    "\n",
    "try:\n",
    "    historical_df = pd.read_csv(historical_csv_path)\n",
    "    historical_df['utcDate'] = pd.to_datetime(historical_df['utcDate'])\n",
    "    # Basic validation of required columns for engineer_form_features\n",
    "    required_hist_cols = ['home_team_id', 'away_team_id', 'home_team_score', 'away_team_score', 'utcDate']\n",
    "    if not all(col in historical_df.columns for col in required_hist_cols):\n",
    "        print(f\"Historical CSV ({historical_csv_path}) is missing required columns. Will use inline dummy data.\")\n",
    "        historical_df = pd.DataFrame() # Reset if invalid\n",
    "    else:\n",
    "        print(f\"Successfully loaded historical data from {historical_csv_path}. Shape: {historical_df.shape}\")\n",
    "except FileNotFoundError:\n",
    "    print(f\"File not found: {historical_csv_path}. Will create inline dummy historical data.\")\n",
    "except Exception as e:\n",
    "    print(f\"Error loading {historical_csv_path}: {e}. Will create inline dummy historical data.\")\n",
    "\n",
    "if historical_df.empty:\n",
    "    # Create dummy historical data if CSV loading failed or file not found\n",
    "    historical_data_dummy = {\n",
    "        'match_id': [101, 102, 103, 104, 105, 106, 107, 108, 109, 110, 111, 112],\n",
    "        'utcDate': pd.to_datetime([\n",
    "            \"2023-01-01\", \"2023-01-05\", \"2023-01-10\", \"2023-01-15\", \"2023-01-20\", \"2023-01-25\",\n",
    "            \"2023-01-02\", \"2023-01-06\", \"2023-01-11\", \"2023-01-16\", \"2023-01-21\", \"2023-01-26\"\n",
    "        ]),\n",
    "        'home_team_id': [10, 11, 10, 12, 10, 13, 11, 10, 12, 11, 10, 13],\n",
    "        'away_team_id': [11, 10, 12, 10, 13, 10, 12, 13, 11, 13, 11, 12],\n",
    "        'home_team_score': [2, 1, 3, 0, 1, 2, 2, 2, 0, 3, 4, 1],\n",
    "        'away_team_score': [1, 2, 0, 1, 1, 0, 2, 2, 1, 1, 1, 1]\n",
    "    }\n",
    "    historical_df = pd.DataFrame(historical_data_dummy)\n",
    "    print(\"Using inline dummy historical data.\")\n",
    "\n",
    "# Prepare a sample `processed_matches_df` for demonstration\n",
    "# This should have 'home_team_id', 'away_team_id', and 'utcDate'\n",
    "# We use a slice of our earlier `matches_df` or create a new one if `matches_df` is empty.\n",
    "if not matches_df.empty and all(col in matches_df.columns for col in ['home_team_id', 'away_team_id', 'utcDate']):\n",
    "    # Take a few matches, ensure IDs are not None and date is valid\n",
    "    sample_processed_matches = matches_df[['home_team_id', 'away_team_id', 'utcDate', 'home_team_name', 'away_team_name']].dropna().head(3).copy()\n",
    "else:\n",
    "    print(\"Original matches_df is empty or lacks required columns. Creating a dummy processed_matches_df for form feature demo.\")\n",
    "    sample_processed_matches_data = {\n",
    "        'home_team_id': [10, 12],\n",
    "        'away_team_id': [11, 13],\n",
    "        'utcDate': pd.to_datetime([datetime.now().strftime(\"%Y-%m-%d\"), (datetime.now() + timedelta(days=1)).strftime(\"%Y-%m-%d\")]),\n",
    "        'home_team_name': ['Team Alpha', 'Team Charlie'],\n",
    "        'away_team_name': ['Team Beta', 'Team Delta']\n",
    "    }\n",
    "    sample_processed_matches = pd.DataFrame(sample_processed_matches_data)\n",
    "\n",
    "if not sample_processed_matches.empty:\n",
    "    print(\"\\nSample of processed matches (before form features):\")\n",
    "    print(sample_processed_matches[['home_team_name', 'away_team_name', 'utcDate']])\n",
    "\n",
    "    # Engineer form features\n",
    "    matches_with_form = engineer_form_features(sample_processed_matches, historical_df, num_games=5)\n",
    "\n",
    "    print(\"\\nMatches DataFrame with Form Features:\")\n",
    "    form_cols = [col for col in matches_with_form.columns if 'form' in col]\n",
    "    print(matches_with_form[['home_team_name', 'away_team_name', 'utcDate'] + form_cols].head())\n",
    "else:\n",
    "    print(\"\\nSkipping form feature engineering demo as sample_processed_matches is empty.\")"
   ]
  },
  {
   "cell_type": "markdown",
   "metadata": {},
   "source": [
    "## 6. Further Exploration (Placeholder)\n",
    "\n",
    "At this stage, you would typically perform more in-depth exploratory data analysis (EDA) on the enriched DataFrame.\n",
    "- Analyze distributions of scores, outcomes, and new form features.\n",
    "- Engineer further features like: \n",
    "    - Head-to-head statistics between teams.\n",
    "    - Team strength based on league position or ratings (e.g., Elo).\n",
    "    - Home/Away advantages.\n",
    "\n",
    "This often involves fetching more historical data for each team or joining with other datasets."
   ]
  },
  {
   "cell_type": "code",
   "execution_count": null,
   "metadata": {},
   "outputs": [],
   "source": [
    "# Use the original matches_df if available and processed, otherwise matches_with_form (if created from dummy)\n",
    "df_to_explore = matches_df if not matches_df.empty else (matches_with_form if 'matches_with_form' in locals() and not matches_with_form.empty else pd.DataFrame())\n",
    "\n",
    "if not df_to_explore.empty:\n",
    "    print(\"Example: Value counts of match status (if available and processed):\")\n",
    "    if 'status' in df_to_explore.columns:\n",
    "        print(df_to_explore['status'].value_counts())\n",
    "    else:\n",
    "        print(\"'status' column not found in the DataFrame.\")\n",
    "    \n",
    "    # Placeholder for creating a 'result' column (Home Win, Draw, Away Win)\n",
    "    if 'home_team_score' in df_to_explore.columns and 'away_team_score' in df_to_explore.columns:\n",
    "        h_scores = pd.to_numeric(df_to_explore['home_team_score'], errors='coerce')\n",
    "        a_scores = pd.to_numeric(df_to_explore['away_team_score'], errors='coerce')\n",
    "        \n",
    "        conditions = [\n",
    "            h_scores > a_scores,\n",
    "            h_scores == a_scores,\n",
    "            h_scores < a_scores\n",
    "        ]\n",
    "        outcomes = [0, 1, 2] # 0: Home Win, 1: Draw, 2: Away Win\n",
    "        df_to_explore['result_label'] = pd.Series(np.select(conditions, outcomes, default=np.nan), index=df_to_explore.index)\n",
    "        print(\"\\n'result_label' distribution (0=Home, 1=Draw, 2=Away):\")\n",
    "        print(df_to_explore['result_label'].value_counts(dropna=False))\n",
    "    else:\n",
    "        print(\"\\nScore columns not found, cannot determine match result label.\")\n",
    "else:\n",
    "    print(\"DataFrame is empty, skipping further exploration.\")"
   ]
  }
 ],
 "metadata": {
  "kernelspec": {
   "display_name": "Python 3",
   "language": "python",
   "name": "python3"
  },
  "language_info": {
   "codemirror_mode": {
    "name": "ipython",
    "version": 3
   },
   "file_extension": ".py",
   "mimetype": "text/x-python",
   "name": "python",
   "nbconvert_exporter": "python",
   "pygments_lexer": "ipython3",
   "version": "3.9.7"
  }
 },
 "nbformat": 4,
 "nbformat_minor": 5
}
