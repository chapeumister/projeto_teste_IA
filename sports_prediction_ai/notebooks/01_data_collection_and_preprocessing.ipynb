{
 "cells": [
  {
   "cell_type": "markdown",
   "metadata": {},
   "source": [
    "# Notebook 1: Data Collection and Preprocessing\n",
    "\n",
    "This notebook demonstrates how to use the `data_collection.py` and `data_preprocessing.py` modules to fetch and prepare sports data.\n",
    "\n",
    "**Note:** To fetch real data from `football-data.org`, you need to set the `FOOTBALL_DATA_API_KEY` environment variable with your API token."
   ]
  },
  {
   "cell_type": "markdown",
   "metadata": {},
   "source": [
    "## 1. Setup and Imports"
   ]
  },
  {
   "cell_type": "code",
   "execution_count": null,
   "metadata": {},
   "outputs": [],
   "source": [
    "import os\n",
    "import sys\n",
    "from datetime import datetime, timedelta\n",
    "import pandas as pd\n",
    "\n",
    "# Add src directory to Python path to import custom modules\n",
    "project_root = os.path.abspath(os.path.join(os.getcwd(), '..')) # Assuming notebook is in 'notebooks' directory\n",
    "src_path = os.path.join(project_root, 'src')\n",
    "if src_path not in sys.path:\n",
    "    sys.path.append(src_path)\n",
    "\n",
    "try:\n",
    "    from data_collection import get_matches_for_date\n",
    "    from data_preprocessing import preprocess_match_data\n",
    "except ImportError as e:\n",
    "    print(f\"Error importing modules: {e}\")\n",
    "    print(\"Make sure 'src' is in sys.path and __init__.py files are present.\")\n",
    "    print(f\"Current sys.path: {sys.path}\")"
   ]
  },
  {
   "cell_type": "markdown",
   "metadata": {},
   "source": [
    "## 2. Data Collection\n",
    "\n",
    "Fetch matches for a specific date. We'll use yesterday as an example to likely get finished matches."
   ]
  },
  {
   "cell_type": "code",
   "execution_count": null,
   "metadata": {},
   "outputs": [],
   "source": [
    "api_key = os.getenv(\"FOOTBALL_DATA_API_KEY\", \"YOUR_API_TOKEN\")\n",
    "\n",
    "if api_key == \"YOUR_API_TOKEN\":\n",
    "    print(\"Warning: FOOTBALL_DATA_API_KEY is not set. Using placeholder.\")\n",
    "    print(\"Data fetching will likely return an empty list or fail.\")\n",
    "    print(\"Please set the environment variable for actual data.\")\n",
    "\n",
    "yesterday = (datetime.now() - timedelta(days=1)).strftime(\"%Y-%m-%d\")\n",
    "print(f\"Fetching matches for: {yesterday}\")\n",
    "\n",
    "raw_matches_data = get_matches_for_date(yesterday, api_key=api_key)\n",
    "\n",
    "if raw_matches_data:\n",
    "    print(f\"Successfully fetched {len(raw_matches_data)} matches.\")\n",
    "    # Display first match as an example\n",
    "    # print(\"Example match data:\", raw_matches_data[0]) \n",
    "else:\n",
    "    print(\"No matches fetched. This could be due to no games on that day, API limits, or an invalid/missing API key.\")"
   ]
  },
  {
   "cell_type": "markdown",
   "metadata": {},
   "source": [
    "## 3. Data Preprocessing\n",
    "\n",
    "Convert the raw list of matches into a Pandas DataFrame and perform initial cleaning/feature extraction."
   ]
  },
  {
   "cell_type": "code",
   "execution_count": null,
   "metadata": {},
   "outputs": [],
   "source": [
    "# Ensure raw_matches_data is not None and is a list\n",
    "if isinstance(raw_matches_data, list) and raw_matches_data:\n",
    "    matches_df = preprocess_match_data(raw_matches_data)\n",
    "    if not matches_df.empty:\n",
    "        print(\"Preprocessed DataFrame info:\")\n",
    "        matches_df.info()\n",
    "        print(\"\\nDataFrame head:\")\n",
    "        print(matches_df[['home_team_name', 'away_team_name', 'home_team_score', 'away_team_score', 'utcDate', 'status']].head())\n",
    "    else:\n",
    "        print(\"Preprocessing resulted in an empty DataFrame.\")\n",
    "elif not raw_matches_data: # Explicitly handle case where data is empty from API\n",
    "    print(\"Skipping preprocessing as no raw match data was fetched.\")\n",
    "    matches_df = pd.DataFrame() # Create an empty df to avoid errors later if something expects it\n",
    "else:\n",
    "    print(f\"Skipping preprocessing as raw_matches_data is not a list or is None (type: {type(raw_matches_data)}).\")\n",
    "    matches_df = pd.DataFrame()"
   ]
  },
  {
   "cell_type": "markdown",
   "metadata": {},
   "source": [
    "## 4. Further Exploration (Placeholder)\n",
    "\n",
    "At this stage, you would typically perform more in-depth exploratory data analysis (EDA) and feature engineering.\n",
    "- Analyze distributions of scores, outcomes.\n",
    "- Engineer features like: \n",
    "    - Recent form (last N games win/loss/draw ratio, goals scored/conceded).\n",
    "    - Head-to-head statistics between teams.\n",
    "    - Team strength based on league position or ratings (e.g., Elo).\n",
    "    - Home/Away advantages.\n",
    "\n",
    "This often involves fetching more historical data for each team."
   ]
  },
  {
   "cell_type": "code",
   "execution_count": null,
   "metadata": {},
   "outputs": [],
   "source": [
    "if not matches_df.empty:\n",
    "    print(\"Example: Value counts of match status (if available and processed):\")\n",
    "    if 'status' in matches_df.columns:\n",
    "        print(matches_df['status'].value_counts())\n",
    "    else:\n",
    "        print(\"'status' column not found in the preprocessed DataFrame.\")\n",
    "    \n",
    "    # Placeholder for creating a 'result' column (Home Win, Draw, Away Win)\n",
    "    # This depends on 'home_team_score' and 'away_team_score' being populated and numeric\n",
    "    if 'home_team_score' in matches_df.columns and 'away_team_score' in matches_df.columns:\n",
    "        # Ensure scores are numeric and handle NaNs if any score is missing\n",
    "        h_scores = pd.to_numeric(matches_df['home_team_score'], errors='coerce')\n",
    "        a_scores = pd.to_numeric(matches_df['away_team_score'], errors='coerce')\n",
    "        \n",
    "        conditions = [\n",
    "            h_scores > a_scores,\n",
    "            h_scores == a_scores,\n",
    "            h_scores < a_scores\n",
    "        ]\n",
    "        outcomes = [0, 1, 2] # 0: Home Win, 1: Draw, 2: Away Win\n",
    "        matches_df['result_label'] = pd.Series(np.select(conditions, outcomes, default=np.nan), index=matches_df.index)\n",
    "        print(\"\\n'result_label' distribution (0=Home, 1=Draw, 2=Away):\")\n",
    "        print(matches_df['result_label'].value_counts(dropna=False))\n",
    "    else:\n",
    "        print(\"\\nScore columns not found, cannot determine match result label.\")\n",
    "else:\n",
    "    print(\"Matches DataFrame is empty, skipping further exploration.\")"
   ]
  }
 ],
 "metadata": {
  "kernelspec": {
   "display_name": "Python 3",
   "language": "python",
   "name": "python3"
  },
  "language_info": {
   "codemirror_mode": {
    "name": "ipython",
    "version": 3
   },
   "file_extension": ".py",
   "mimetype": "text/x-python",
   "name": "python",
   "nbconvert_exporter": "python",
   "pygments_lexer": "ipython3",
   "version": "3.9.7"
  }
 },
 "nbformat": 4,
 "nbformat_minor": 5
}
